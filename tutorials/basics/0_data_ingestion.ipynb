{
 "cells": [
  {
   "cell_type": "markdown",
   "id": "300b2d48-024f-4d54-8688-8ac2cf7c10e0",
   "metadata": {},
   "source": [
    "# Data Ingestion"
   ]
  },
  {
   "cell_type": "markdown",
   "id": "122d8f47-a77e-4c70-8bfd-9e1692620ebf",
   "metadata": {},
   "source": [
    "This notebook demostrates how to load the example Cora dataset into your TigerGraph database. There are many ways to ingest data into a TigerGraph database (see the [official doc](https://docs.tigergraph.com/tigergraph-server/current/data-loading/readme)). Here we will take the command line approach. No python code is needed."
   ]
  },
  {
   "cell_type": "markdown",
   "id": "df1ecc9a-f9b7-4477-9a17-d92e9651efed",
   "metadata": {},
   "source": [
    "1. First you need a running TigerGraph database. See the [docs](https://docs.tigergraph.com/tigergraph-server/current/getting-started/docker) to start a TigerGraph database quickly. [tgcloud.io](https://tgcloud.io/) is not supported by the ML workbench for now, so the database has to be run on a on-prem server.\n",
    "2. SSH into the database server as a database user. If the database is running in a docker container, SSH into the container. \n",
    "3. On the server terminal, download the following files using tools such as `wget`\n",
    "   - Vertices: `wget https://tigergraph-public-data.s3.us-west-1.amazonaws.com/Cora/nodes.csv`\n",
    "   - Edges: `wget https://tigergraph-public-data.s3.us-west-1.amazonaws.com/Cora/edges.csv`\n",
    "   - GSQL script for loading data: `wget https://tigergraph-public-data.s3.us-west-1.amazonaws.com/Cora/ingest.gsql`\n",
    "4. Open the script `ingest.gsql` with any text editor such as `vim` or `emacs`, and modify lines 11 and 12 to point to the two csv files you just downloaded.\n",
    "5. [Optional] If there is already a graph in your database, you might want to back it up, and then drop everything for a fresh start.\n",
    "6. Run the GSQL script: `gsql ingest.gsql`, and wait for it to finish.\n",
    "7. To verify that data ingestion is sucessful, open GraphStudio in your browser at `http://<server_ip>:14240/` and select `Cora` for the graph. You should be able to see\n",
    "   - Graph schema and loading results in the `Load Data` section.\n",
    "   - Some randomly picked vertices in the `Explore Graph` section after you click the `Pick vertices` button."
   ]
  },
  {
   "cell_type": "code",
   "execution_count": null,
   "id": "3bab3bb0-e0ac-424a-8fe7-c48c0ab11de7",
   "metadata": {},
   "outputs": [],
   "source": []
  }
 ],
 "metadata": {
  "kernelspec": {
   "display_name": "Python 3",
   "language": "python",
   "name": "python3"
  },
  "language_info": {
   "codemirror_mode": {
    "name": "ipython",
    "version": 3
   },
   "file_extension": ".py",
   "mimetype": "text/x-python",
   "name": "python",
   "nbconvert_exporter": "python",
   "pygments_lexer": "ipython3",
   "version": "3.9.7"
  }
 },
 "nbformat": 4,
 "nbformat_minor": 5
}
